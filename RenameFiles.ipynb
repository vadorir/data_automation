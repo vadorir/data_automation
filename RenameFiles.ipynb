{
 "cells": [
  {
   "cell_type": "code",
   "execution_count": 18,
   "id": "97e9112a",
   "metadata": {},
   "outputs": [],
   "source": [
    "import os\n",
    "path = r\"C:\\Users\\RyanVadori\\OneDrive - Smarter Alloys\\Downloads\\autotest\"\n",
    "for filename in os.listdir(path):\n",
    "    \n",
    "    os.chdir(path)\n",
    "    \n",
    "    os.rename(filename, filename.replace('_', ' '))\n",
    "    \n",
    "for filename in os.listdir(path):\n",
    "    \n",
    "    os.chdir(path)\n",
    "    \n",
    "    os.rename(filename, filename.replace('.docx', ''))"
   ]
  },
  {
   "cell_type": "code",
   "execution_count": null,
   "id": "94a2dfda",
   "metadata": {},
   "outputs": [],
   "source": []
  }
 ],
 "metadata": {
  "kernelspec": {
   "display_name": "Python 3",
   "language": "python",
   "name": "python3"
  },
  "language_info": {
   "codemirror_mode": {
    "name": "ipython",
    "version": 3
   },
   "file_extension": ".py",
   "mimetype": "text/x-python",
   "name": "python",
   "nbconvert_exporter": "python",
   "pygments_lexer": "ipython3",
   "version": "3.8.5"
  }
 },
 "nbformat": 4,
 "nbformat_minor": 5
}
